{
 "cells": [
  {
   "cell_type": "code",
   "execution_count": 10,
   "metadata": {},
   "outputs": [
    {
     "name": "stdout",
     "output_type": "stream",
     "text": [
      "Requirement already satisfied: pandas in /Users/thomas/.pyenv/versions/3.7.4/lib/python3.7/site-packages (0.25.2)\r\n",
      "Requirement already satisfied: numpy>=1.13.3 in /Users/thomas/.pyenv/versions/3.7.4/lib/python3.7/site-packages (from pandas) (1.17.3)\r\n",
      "Requirement already satisfied: pytz>=2017.2 in /Users/thomas/.pyenv/versions/3.7.4/lib/python3.7/site-packages (from pandas) (2019.3)\r\n",
      "Requirement already satisfied: python-dateutil>=2.6.1 in /Users/thomas/.pyenv/versions/3.7.4/lib/python3.7/site-packages (from pandas) (2.8.0)\r\n",
      "Requirement already satisfied: six>=1.5 in /Users/thomas/.pyenv/versions/3.7.4/lib/python3.7/site-packages (from python-dateutil>=2.6.1->pandas) (1.12.0)\r\n"
     ]
    }
   ],
   "source": [
    "import sys\n",
    "!{sys.executable} -m pip install pandas"
   ]
  },
  {
   "cell_type": "markdown",
   "metadata": {},
   "source": [
    "I downloaded the unemployment data for the U.S. from 2008 to current using the [data site from the U.S. Federal Reserve of St. Louis](https://fred.stlouisfed.org/graph/?g=qaWa) website. I followed [a tip on indexing dates during CSV loading](https://www.reddit.com/r/learnpython/comments/743l4g/loading_a_csv_into_a_dataframe_with_a_datetime_as/) to get the time series feel that I wanted."
   ]
  },
  {
   "cell_type": "code",
   "execution_count": 11,
   "metadata": {},
   "outputs": [
    {
     "data": {
      "text/html": [
       "<div>\n",
       "<style scoped>\n",
       "    .dataframe tbody tr th:only-of-type {\n",
       "        vertical-align: middle;\n",
       "    }\n",
       "\n",
       "    .dataframe tbody tr th {\n",
       "        vertical-align: top;\n",
       "    }\n",
       "\n",
       "    .dataframe thead th {\n",
       "        text-align: right;\n",
       "    }\n",
       "</style>\n",
       "<table border=\"1\" class=\"dataframe\">\n",
       "  <thead>\n",
       "    <tr style=\"text-align: right;\">\n",
       "      <th></th>\n",
       "      <th>Unemployed</th>\n",
       "    </tr>\n",
       "    <tr>\n",
       "      <th>Month</th>\n",
       "      <th></th>\n",
       "    </tr>\n",
       "  </thead>\n",
       "  <tbody>\n",
       "    <tr>\n",
       "      <th>2008-01-01</th>\n",
       "      <td>7685</td>\n",
       "    </tr>\n",
       "    <tr>\n",
       "      <th>2008-02-01</th>\n",
       "      <td>7497</td>\n",
       "    </tr>\n",
       "    <tr>\n",
       "      <th>2008-03-01</th>\n",
       "      <td>7822</td>\n",
       "    </tr>\n",
       "    <tr>\n",
       "      <th>2008-04-01</th>\n",
       "      <td>7637</td>\n",
       "    </tr>\n",
       "    <tr>\n",
       "      <th>2008-05-01</th>\n",
       "      <td>8395</td>\n",
       "    </tr>\n",
       "  </tbody>\n",
       "</table>\n",
       "</div>"
      ],
      "text/plain": [
       "            Unemployed\n",
       "Month                 \n",
       "2008-01-01        7685\n",
       "2008-02-01        7497\n",
       "2008-03-01        7822\n",
       "2008-04-01        7637\n",
       "2008-05-01        8395"
      ]
     },
     "execution_count": 11,
     "metadata": {},
     "output_type": "execute_result"
    }
   ],
   "source": [
    "import pandas as pd\n",
    "unemploy = pd.read_csv('UNEMPLOY.csv',names=['Month','Unemployed'], parse_dates=True, header=0, index_col=0)\n",
    "unemploy.head()"
   ]
  },
  {
   "cell_type": "markdown",
   "metadata": {},
   "source": [
    "(U.S. Bureau of Labor Statistics, Unemployment Level [UNEMPLOY], retrieved from FRED, Federal Reserve Bank of St. Louis; https://fred.stlouisfed.org/series/UNEMPLOY, February 17, 2020.). The _Unemployed_ column is thousands of persons unemployed. A chart helps show the change over time:"
   ]
  },
  {
   "cell_type": "code",
   "execution_count": 12,
   "metadata": {},
   "outputs": [
    {
     "data": {
      "text/plain": [
       "<matplotlib.lines.Line2D at 0x10db67e90>"
      ]
     },
     "execution_count": 12,
     "metadata": {},
     "output_type": "execute_result"
    },
    {
     "data": {
      "image/png": "[encoded data removed]",
      "text/plain": [
       "<Figure size 1080x216 with 1 Axes>"
      ]
     },
     "metadata": {
      "needs_background": "light"
     },
     "output_type": "display_data"
    }
   ],
   "source": [
    "import matplotlib.dates as mdates\n",
    "ax = unemploy.plot.area(figsize=(15,3),\n",
    "                  title=\"Unemployed Persons by Month\",\n",
    "                       )\n",
    "ax.set(ylabel=\"Persons (thousands)\", ylim=3000)\n",
    "ax.xaxis.set_major_locator(mdates.YearLocator(1))\n",
    "ax.xaxis.set_major_formatter(mdates.DateFormatter('%Y'))\n",
    "ax.xaxis.set_minor_locator(mdates.MonthLocator())\n",
    "ax.xaxis.set_minor_formatter(mdates.DateFormatter('%b'))\n",
    "\n",
    "# https://en.wikipedia.org/wiki/Presidency_of_Donald_Trump#2016_presidential_election\n",
    "start_great_recessions = pd.to_datetime('2007-12-01')\n",
    "end_great_recessions = pd.to_datetime('2009-06-30')\n",
    "\n",
    "trump_inauguration = pd.to_datetime('2017-01-20')\n",
    "obama_inauguration = pd.to_datetime('2009-01-20')\n",
    "ax.axvline(obama_inauguration, color='b', linestyle='-', lw=2)\n",
    "ax.axvline(trump_inauguration, color='r', linestyle='-', lw=2)\n",
    "\n",
    "ax.fill_between(x,)"
   ]
  },
  {
   "cell_type": "code",
   "execution_count": null,
   "metadata": {},
   "outputs": [],
   "source": []
  },
  {
   "cell_type": "code",
   "execution_count": null,
   "metadata": {},
   "outputs": [],
   "source": []
  }
 ],
 "metadata": {
  "file_extension": ".py",
  "kernelspec": {
   "display_name": "Python 3.7.4 64-bit ('3.7.4': pyenv)",
   "language": "python",
   "name": "python37464bit374pyenve05fb4d530cb443388012d9ae62ed66b"
  },
  "language_info": {
   "codemirror_mode": {
    "name": "ipython",
    "version": 3
   },
   "file_extension": ".py",
   "mimetype": "text/x-python",
   "name": "python",
   "nbconvert_exporter": "python",
   "pygments_lexer": "ipython3",
   "version": "3.7.4"
  },
  "mimetype": "text/x-python",
  "name": "python",
  "npconvert_exporter": "python",
  "pygments_lexer": "ipython3",
  "version": 3
 },
 "nbformat": 4,
 "nbformat_minor": 2
}
